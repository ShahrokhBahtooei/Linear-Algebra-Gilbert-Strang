{
 "cells": [
  {
   "cell_type": "code",
   "execution_count": 1,
   "metadata": {
    "jupyter": {
     "outputs_hidden": true
    }
   },
   "outputs": [],
   "source": [
    "import numpy as np, numpy.linalg as npLA\n",
    "from numpy.linalg import matrix_power\n",
    "from numpy.testing import assert_\n",
    "\n",
    "from scipy import linalg as LA\n",
    "from scipy.linalg import inv, det, expm\n",
    "\n",
    "import matplotlib.pyplot as plt"
   ]
  },
  {
   "cell_type": "code",
   "execution_count": 2,
   "metadata": {
    "pycharm": {
     "name": "#%%\n"
    }
   },
   "outputs": [],
   "source": [
    "from utility import *\n",
    "\n",
    "%load_ext autoreload\n",
    "%autoreload 1\n",
    "%aimport utility"
   ]
  },
  {
   "cell_type": "code",
   "execution_count": 3,
   "metadata": {
    "pycharm": {
     "name": "#%%\n"
    }
   },
   "outputs": [],
   "source": [
    "# Without set_, it can be used as a context manager as well.\n",
    "# formatter={'float_kind':'{:_.1f}'.format}\n",
    "np.set_printoptions(precision=1, suppress=True)"
   ]
  },
  {
   "cell_type": "markdown",
   "metadata": {},
   "source": [
    "# Create my chosen array"
   ]
  },
  {
   "cell_type": "code",
   "execution_count": 4,
   "metadata": {
    "pycharm": {
     "name": "#%%\n"
    }
   },
   "outputs": [
    {
     "name": "stdout",
     "output_type": "stream",
     "text": [
      "[[1 2 1]\n",
      " [3 8 1]\n",
      " [0 4 1]]\n"
     ]
    }
   ],
   "source": [
    "def create_a_square_invertible_array():\n",
    "    \"\"\"Invertible (M == N)\"\"\"\n",
    "    return np.array([[1, 2, 1],\n",
    "                     [3, 8, 1],\n",
    "                     [0, 4, 1]])\n",
    "\n",
    "def create_a_square_singular_array():\n",
    "    \"\"\"Singular M == N\"\"\"\n",
    "    return np.array([[1, 1, 4],\n",
    "                     [2, 2, 5],\n",
    "                     [3, 3, 6]])\n",
    "\n",
    "def create_a_Jordan_array():\n",
    "    \"\"\"Jordan (M == N)\"\"\"\n",
    "    return np.array([[3, 1, 0],\n",
    "                     [0, 3, 1],\n",
    "                     [0, 0, 3]])\n",
    "\n",
    "def create_a_tall_array():\n",
    "    \"\"\"Tall (M > N)\"\"\"\n",
    "    return np.array([[1, 1],\n",
    "                     [2, 2],\n",
    "                     [3, 4],\n",
    "                     [4, 1]])\n",
    "\n",
    "def create_a_fat_array():\n",
    "    \"\"\"Fat (M < N)\"\"\"\n",
    "    return np.array([[1, 2, 3, 4],\n",
    "                     [1, 2, 4, 1]])\n",
    "\n",
    "def create_my_array():\n",
    "    \"\"\"The array I wish to see its attributes throughout the majority of cells. Feel free to change it!\"\"\"\n",
    "    return create_a_square_invertible_array()\n",
    "\n",
    "A = create_my_array()\n",
    "print(A)"
   ]
  },
  {
   "cell_type": "markdown",
   "metadata": {},
   "source": [
    "# Basic operations"
   ]
  },
  {
   "cell_type": "markdown",
   "metadata": {},
   "source": [
    "## Transpose"
   ]
  },
  {
   "cell_type": "markdown",
   "metadata": {},
   "source": [
    "### Matrix (2D array)"
   ]
  },
  {
   "cell_type": "code",
   "execution_count": 5,
   "metadata": {
    "pycharm": {
     "name": "#%%\n"
    }
   },
   "outputs": [
    {
     "name": "stdout",
     "output_type": "stream",
     "text": [
      "[[1 2]\n",
      " [3 4]]\n"
     ]
    }
   ],
   "source": [
    "A = np.arange(1, 5).reshape((2, 2))\n",
    "print(A)"
   ]
  },
  {
   "cell_type": "code",
   "execution_count": 6,
   "metadata": {
    "pycharm": {
     "name": "#%%\n"
    }
   },
   "outputs": [
    {
     "name": "stdout",
     "output_type": "stream",
     "text": [
      "[[1 3]\n",
      " [2 4]]\n"
     ]
    }
   ],
   "source": [
    "print(A.T)"
   ]
  },
  {
   "cell_type": "markdown",
   "metadata": {},
   "source": [
    "### Vector (1D array)"
   ]
  },
  {
   "cell_type": "code",
   "execution_count": 7,
   "metadata": {
    "pycharm": {
     "name": "#%%\n"
    }
   },
   "outputs": [
    {
     "name": "stdout",
     "output_type": "stream",
     "text": [
      "[0 1 2]\n"
     ]
    }
   ],
   "source": [
    "b = np.arange(3)\n",
    "print(b)"
   ]
  },
  {
   "cell_type": "code",
   "execution_count": 8,
   "metadata": {
    "pycharm": {
     "name": "#%%\n"
    }
   },
   "outputs": [
    {
     "name": "stdout",
     "output_type": "stream",
     "text": [
      "[0 1 2]\n"
     ]
    }
   ],
   "source": [
    "print(b.T)"
   ]
  },
  {
   "cell_type": "markdown",
   "metadata": {},
   "source": [
    "A 1D array is the same as its transpose.\n"
   ]
  },
  {
   "cell_type": "markdown",
   "metadata": {
    "pycharm": {
     "name": "#%% md\n"
    }
   },
   "source": [
    "1D arrays will automatically transform to (perhaps transpose) 2D ones when they are on either side of @ functions."
   ]
  },
  {
   "cell_type": "markdown",
   "metadata": {},
   "source": [
    "### Vector (2D array)"
   ]
  },
  {
   "cell_type": "code",
   "execution_count": 9,
   "metadata": {
    "pycharm": {
     "name": "#%%\n"
    }
   },
   "outputs": [
    {
     "name": "stdout",
     "output_type": "stream",
     "text": [
      "[[0 1 2]]\n"
     ]
    }
   ],
   "source": [
    "x = np.arange(3).reshape((1, 3))\n",
    "print(x)"
   ]
  },
  {
   "cell_type": "code",
   "execution_count": 10,
   "metadata": {
    "pycharm": {
     "name": "#%%\n"
    }
   },
   "outputs": [
    {
     "name": "stdout",
     "output_type": "stream",
     "text": [
      "[[0]\n",
      " [1]\n",
      " [2]]\n"
     ]
    }
   ],
   "source": [
    "print(x.T)"
   ]
  },
  {
   "cell_type": "markdown",
   "metadata": {},
   "source": [
    "## Inverse"
   ]
  },
  {
   "cell_type": "code",
   "execution_count": 11,
   "metadata": {
    "pycharm": {
     "name": "#%%\n"
    }
   },
   "outputs": [
    {
     "name": "stdout",
     "output_type": "stream",
     "text": [
      "[[-0.2  0.4]\n",
      " [ 0.6 -0.2]]\n"
     ]
    }
   ],
   "source": [
    "A = np.array([[1, 2],\n",
    "              [3, 1]])\n",
    "Ai = LA.inv(A)\n",
    "print(Ai)"
   ]
  },
  {
   "cell_type": "markdown",
   "metadata": {},
   "source": [
    "# Decompositions"
   ]
  },
  {
   "cell_type": "markdown",
   "metadata": {},
   "source": [
    "## LU"
   ]
  },
  {
   "cell_type": "code",
   "execution_count": 12,
   "metadata": {
    "pycharm": {
     "name": "#%%\n"
    }
   },
   "outputs": [
    {
     "name": "stdout",
     "output_type": "stream",
     "text": [
      "[[1 2 1]\n",
      " [3 8 1]\n",
      " [0 4 1]]\n"
     ]
    }
   ],
   "source": [
    "A = create_my_array()\n",
    "print(A)"
   ]
  },
  {
   "cell_type": "code",
   "execution_count": 13,
   "metadata": {
    "pycharm": {
     "name": "#%%\n"
    }
   },
   "outputs": [
    {
     "name": "stdout",
     "output_type": "stream",
     "text": [
      "P\n",
      "[[0. 0. 1.]\n",
      " [1. 0. 0.]\n",
      " [0. 1. 0.]]\n",
      "\n",
      "L\n",
      "[[ 1.   0.   0. ]\n",
      " [ 0.   1.   0. ]\n",
      " [ 0.3 -0.2  1. ]]\n",
      "\n",
      "U\n",
      "[[3.  8.  1. ]\n",
      " [0.  4.  1. ]\n",
      " [0.  0.  0.8]]\n"
     ]
    }
   ],
   "source": [
    "P, L, U = LA.lu(A)\n",
    "print('P', P, '', 'L', L, '', 'U', U, sep='\\n')"
   ]
  },
  {
   "cell_type": "markdown",
   "metadata": {},
   "source": [
    "## QR"
   ]
  },
  {
   "cell_type": "code",
   "execution_count": 14,
   "metadata": {
    "pycharm": {
     "name": "#%%\n"
    }
   },
   "outputs": [
    {
     "name": "stdout",
     "output_type": "stream",
     "text": [
      "[[1 2 1]\n",
      " [3 8 1]\n",
      " [0 4 1]]\n"
     ]
    }
   ],
   "source": [
    "A = create_my_array()\n",
    "print(A)"
   ]
  },
  {
   "cell_type": "code",
   "execution_count": 15,
   "metadata": {
    "pycharm": {
     "name": "#%%\n"
    }
   },
   "outputs": [
    {
     "name": "stdout",
     "output_type": "stream",
     "text": [
      "Q\n",
      "[[-0.3  0.1  0.9]\n",
      " [-0.9 -0.  -0.3]\n",
      " [-0.  -1.   0.2]]\n",
      "\n",
      "R\n",
      "[[-3.2 -8.2 -1.3]\n",
      " [ 0.  -4.  -0.9]\n",
      " [ 0.   0.   0.8]]\n"
     ]
    }
   ],
   "source": [
    "Q, R = LA.qr(A)\n",
    "print('Q', Q, '', 'R', R, sep='\\n')"
   ]
  },
  {
   "cell_type": "markdown",
   "metadata": {},
   "source": [
    "## Diagonalization (Eigendecomposition)"
   ]
  },
  {
   "cell_type": "code",
   "execution_count": 16,
   "metadata": {
    "pycharm": {
     "name": "#%%\n"
    }
   },
   "outputs": [
    {
     "name": "stdout",
     "output_type": "stream",
     "text": [
      "[[1 2 1]\n",
      " [3 8 1]\n",
      " [0 4 1]]\n"
     ]
    }
   ],
   "source": [
    "A = create_my_array()\n",
    "print(A)"
   ]
  },
  {
   "cell_type": "code",
   "execution_count": 17,
   "metadata": {
    "pycharm": {
     "name": "#%%\n"
    }
   },
   "outputs": [
    {
     "name": "stdout",
     "output_type": "stream",
     "text": [
      "la\n",
      "[9.4+0.j 0.3+1.j 0.3-1.j]\n",
      "\n",
      "S\n",
      "[[ 0.3+0.j   0. -0.5j  0. +0.5j]\n",
      " [ 0.9+0.j  -0.1+0.2j -0.1-0.2j]\n",
      " [ 0.4+0.j   0.8+0.j   0.8-0.j ]]\n"
     ]
    }
   ],
   "source": [
    "la, S = LA.eig(A)\n",
    "print('la', la, '', 'S', S, sep='\\n')"
   ]
  },
  {
   "cell_type": "code",
   "execution_count": 18,
   "metadata": {
    "pycharm": {
     "name": "#%%\n"
    }
   },
   "outputs": [
    {
     "data": {
      "text/plain": "array([[9.4+0.j, 0. +0.j, 0. +0.j],\n       [0. +0.j, 0.3+1.j, 0. +0.j],\n       [0. +0.j, 0. +0.j, 0.3-1.j]])"
     },
     "execution_count": 18,
     "metadata": {},
     "output_type": "execute_result"
    }
   ],
   "source": [
    "np.diagflat(la)"
   ]
  },
  {
   "cell_type": "code",
   "execution_count": 19,
   "metadata": {
    "pycharm": {
     "name": "#%%\n"
    }
   },
   "outputs": [
    {
     "name": "stdout",
     "output_type": "stream",
     "text": [
      "[[1.-0.j 2.+0.j 1.+0.j]\n",
      " [3.-0.j 8.-0.j 1.+0.j]\n",
      " [0.-0.j 4.-0.j 1.+0.j]]\n"
     ]
    }
   ],
   "source": [
    "print(S @ np.diagflat(la) @ inv(S))"
   ]
  },
  {
   "cell_type": "markdown",
   "metadata": {},
   "source": [
    "# Subspaces"
   ]
  },
  {
   "cell_type": "code",
   "execution_count": 20,
   "metadata": {
    "pycharm": {
     "name": "#%%\n"
    }
   },
   "outputs": [
    {
     "name": "stdout",
     "output_type": "stream",
     "text": [
      "[[1 2 1]\n",
      " [3 8 1]\n",
      " [0 4 1]]\n"
     ]
    }
   ],
   "source": [
    "A = create_my_array()\n",
    "print(A)"
   ]
  },
  {
   "cell_type": "markdown",
   "metadata": {},
   "source": [
    "## Column Space C(A)"
   ]
  },
  {
   "cell_type": "markdown",
   "metadata": {},
   "source": [
    "(Using SVD, Orthonormal basis)"
   ]
  },
  {
   "cell_type": "code",
   "execution_count": 21,
   "metadata": {
    "pycharm": {
     "name": "#%%\n"
    }
   },
   "outputs": [
    {
     "name": "stdout",
     "output_type": "stream",
     "text": [
      "[[-0.2  0.1  1. ]\n",
      " [-0.9  0.4 -0.3]\n",
      " [-0.4 -0.9 -0. ]]\n"
     ]
    }
   ],
   "source": [
    "col_sp_A_orthonormal_basis_by_SVD = LA.orth(A)\n",
    "print(col_sp_A_orthonormal_basis_by_SVD)"
   ]
  },
  {
   "cell_type": "markdown",
   "metadata": {},
   "source": [
    "### Manually"
   ]
  },
  {
   "cell_type": "markdown",
   "metadata": {},
   "source": [
    "#### QR"
   ]
  },
  {
   "cell_type": "markdown",
   "metadata": {},
   "source": [
    "##### Orthonormal basis"
   ]
  },
  {
   "cell_type": "code",
   "execution_count": 22,
   "metadata": {
    "pycharm": {
     "name": "#%%\n"
    }
   },
   "outputs": [
    {
     "name": "stdout",
     "output_type": "stream",
     "text": [
      "Q\n",
      "[[-0.2 -0.3 -0.9]\n",
      " [-0.9 -0.4  0.3]\n",
      " [-0.4  0.9 -0.2]]\n",
      "\n",
      "R\n",
      "[[-9.2 -2.8 -1.5]\n",
      " [ 0.  -1.4  0.2]\n",
      " [ 0.   0.  -0.8]]\n",
      "\n",
      "P\n",
      "[1 0 2]\n",
      "\n",
      "rank\n",
      "3\n"
     ]
    }
   ],
   "source": [
    "Q, R, P = LA.qr(A, pivoting=True)\n",
    "rank_A = npLA.matrix_rank(A)\n",
    "print('Q', Q, '', 'R', R, '', 'P', P, '', 'rank', rank_A, sep='\\n')"
   ]
  },
  {
   "cell_type": "code",
   "execution_count": 23,
   "metadata": {
    "pycharm": {
     "name": "#%%\n"
    }
   },
   "outputs": [
    {
     "name": "stdout",
     "output_type": "stream",
     "text": [
      "[[-0.2 -0.3 -0.9]\n",
      " [-0.9 -0.4  0.3]\n",
      " [-0.4  0.9 -0.2]]\n"
     ]
    }
   ],
   "source": [
    "col_sp_A_orthonormal_basis_by_QR = Q[:, :rank_A]\n",
    "print(col_sp_A_orthonormal_basis_by_QR)"
   ]
  },
  {
   "cell_type": "markdown",
   "metadata": {},
   "source": [
    "##### Independent columns"
   ]
  },
  {
   "cell_type": "code",
   "execution_count": 24,
   "metadata": {
    "pycharm": {
     "name": "#%%\n"
    }
   },
   "outputs": [
    {
     "name": "stdout",
     "output_type": "stream",
     "text": [
      "Q\n",
      "[[-0.3  0.1  0.9]\n",
      " [-0.9 -0.  -0.3]\n",
      " [-0.  -1.   0.2]]\n",
      "\n",
      "R\n",
      "[[-3.2 -8.2 -1.3]\n",
      " [ 0.  -4.  -0.9]\n",
      " [ 0.   0.   0.8]]\n",
      "\n",
      "rank\n",
      "3\n"
     ]
    }
   ],
   "source": [
    "Q, R = LA.qr(A)\n",
    "print('Q', Q, '', 'R', R, '', 'rank', rank_A, sep='\\n')"
   ]
  },
  {
   "cell_type": "code",
   "execution_count": 25,
   "metadata": {
    "pycharm": {
     "name": "#%%\n"
    }
   },
   "outputs": [],
   "source": [
    "def obtain_unique_indices_of_first_nonzero_col_in_each_row(U_resulted_by_decomposition: np.ndarray) -> list:\n",
    "    # I should first convert all the \"-0.\" to \"0.\" so that nonzero() can find them.\n",
    "    U_copy = U_resulted_by_decomposition.copy()\n",
    "    U_copy[abs(U_copy) < 1.e-7] = 0\n",
    "\n",
    "    # Because some rows in U may not have even one nonzero element,\n",
    "    # I have to find the index for the first one in two steps.\n",
    "    index_of_all_nonzero_cols_in_each_row = (\n",
    "        [U_copy[i, :].nonzero()[0] for i in range(U_copy.shape[0])]\n",
    "    )\n",
    "\n",
    "    index_of_first_nonzero_col_in_each_row = (\n",
    "        [indices[0] for indices in index_of_all_nonzero_cols_in_each_row\n",
    "         if len(indices) > 0]\n",
    "    )\n",
    "\n",
    "    # Because two rows or more may have the same indices for their first nonzero element,\n",
    "    # I should remove duplicates.\n",
    "    unique_indices = sorted(list(set(index_of_first_nonzero_col_in_each_row)))\n",
    "    return unique_indices"
   ]
  },
  {
   "cell_type": "code",
   "execution_count": 26,
   "metadata": {
    "pycharm": {
     "name": "#%%\n"
    }
   },
   "outputs": [
    {
     "name": "stdout",
     "output_type": "stream",
     "text": [
      "[[1 2 1]\n",
      " [3 8 1]\n",
      " [0 4 1]]\n"
     ]
    }
   ],
   "source": [
    "index_of_linearly_independent_cols_of_A = obtain_unique_indices_of_first_nonzero_col_in_each_row(R)\n",
    "\n",
    "col_sp_A_independent_columns_by_QR = A[:, index_of_linearly_independent_cols_of_A]\n",
    "\n",
    "print(col_sp_A_independent_columns_by_QR)"
   ]
  },
  {
   "cell_type": "markdown",
   "metadata": {},
   "source": [
    "We can create them by Q and R too:"
   ]
  },
  {
   "cell_type": "code",
   "execution_count": 27,
   "metadata": {
    "pycharm": {
     "name": "#%%\n"
    }
   },
   "outputs": [
    {
     "name": "stdout",
     "output_type": "stream",
     "text": [
      "[[1. 2. 1.]\n",
      " [3. 8. 1.]\n",
      " [0. 4. 1.]]\n"
     ]
    }
   ],
   "source": [
    "col_sp_A_independent_columns_by_QR = Q @ R[:, index_of_linearly_independent_cols_of_A]\n",
    "\n",
    "print(col_sp_A_independent_columns_by_QR)"
   ]
  },
  {
   "cell_type": "markdown",
   "metadata": {},
   "source": [
    "#### LU (Independent columns)"
   ]
  },
  {
   "cell_type": "code",
   "execution_count": 28,
   "metadata": {
    "pycharm": {
     "name": "#%%\n"
    }
   },
   "outputs": [
    {
     "name": "stdout",
     "output_type": "stream",
     "text": [
      "P\n",
      "[[0. 0. 1.]\n",
      " [1. 0. 0.]\n",
      " [0. 1. 0.]]\n",
      "\n",
      "L\n",
      "[[ 1.   0.   0. ]\n",
      " [ 0.   1.   0. ]\n",
      " [ 0.3 -0.2  1. ]]\n",
      "\n",
      "U\n",
      "[[3.  8.  1. ]\n",
      " [0.  4.  1. ]\n",
      " [0.  0.  0.8]]\n"
     ]
    }
   ],
   "source": [
    "P, L, U = LA.lu(A)\n",
    "print('P', P, '', 'L', L, '', 'U', U, sep='\\n')"
   ]
  },
  {
   "cell_type": "code",
   "execution_count": 29,
   "metadata": {
    "pycharm": {
     "name": "#%%\n"
    }
   },
   "outputs": [
    {
     "name": "stdout",
     "output_type": "stream",
     "text": [
      "[[1 2 1]\n",
      " [3 8 1]\n",
      " [0 4 1]]\n"
     ]
    }
   ],
   "source": [
    "index_of_linearly_independent_cols_of_A = obtain_unique_indices_of_first_nonzero_col_in_each_row(U)\n",
    "\n",
    "col_sp_A_independent_columns_by_LU = A[:, index_of_linearly_independent_cols_of_A]\n",
    "\n",
    "print(col_sp_A_independent_columns_by_LU)"
   ]
  },
  {
   "cell_type": "markdown",
   "metadata": {},
   "source": [
    "We can create them by P, L, and U too:"
   ]
  },
  {
   "cell_type": "code",
   "execution_count": 30,
   "metadata": {
    "pycharm": {
     "name": "#%%\n"
    }
   },
   "outputs": [
    {
     "name": "stdout",
     "output_type": "stream",
     "text": [
      "[[1. 2. 1.]\n",
      " [3. 8. 1.]\n",
      " [0. 4. 1.]]\n"
     ]
    }
   ],
   "source": [
    "col_sp_A_independent_columns_by_LU = P @ L @ U[:, index_of_linearly_independent_cols_of_A]\n",
    "\n",
    "print(col_sp_A_independent_columns_by_LU)"
   ]
  },
  {
   "cell_type": "markdown",
   "metadata": {},
   "source": [
    "## Null Space N(A)"
   ]
  },
  {
   "cell_type": "markdown",
   "metadata": {},
   "source": [
    "(Using SVD, Orthonormal basis)"
   ]
  },
  {
   "cell_type": "code",
   "execution_count": 31,
   "metadata": {
    "pycharm": {
     "name": "#%%\n"
    }
   },
   "outputs": [
    {
     "name": "stdout",
     "output_type": "stream",
     "text": [
      "[]\n"
     ]
    }
   ],
   "source": [
    "null_sp_A = LA.null_space(A)\n",
    "print(null_sp_A)"
   ]
  },
  {
   "cell_type": "code",
   "execution_count": 32,
   "metadata": {
    "pycharm": {
     "name": "#%%\n"
    }
   },
   "outputs": [
    {
     "data": {
      "text/plain": "0.0"
     },
     "execution_count": 32,
     "metadata": {},
     "output_type": "execute_result"
    }
   ],
   "source": [
    "LA.norm(null_sp_A)"
   ]
  },
  {
   "cell_type": "markdown",
   "metadata": {},
   "source": [
    "## Row Space C(At)"
   ]
  },
  {
   "cell_type": "code",
   "execution_count": 33,
   "metadata": {
    "pycharm": {
     "name": "#%%\n"
    }
   },
   "outputs": [
    {
     "name": "stdout",
     "output_type": "stream",
     "text": [
      "[[-0.3  0.9  0.3]\n",
      " [-0.9 -0.2 -0.2]\n",
      " [-0.2 -0.3  0.9]]\n"
     ]
    }
   ],
   "source": [
    "row_sp_A = LA.orth(A.T)\n",
    "print(row_sp_A)"
   ]
  },
  {
   "cell_type": "markdown",
   "metadata": {},
   "source": [
    "## Left Null Space N(At)"
   ]
  },
  {
   "cell_type": "code",
   "execution_count": 34,
   "metadata": {
    "pycharm": {
     "name": "#%%\n"
    }
   },
   "outputs": [
    {
     "name": "stdout",
     "output_type": "stream",
     "text": [
      "[]\n"
     ]
    }
   ],
   "source": [
    "left_null_sp_A = LA.null_space(A.T)\n",
    "print(left_null_sp_A)"
   ]
  },
  {
   "cell_type": "markdown",
   "metadata": {},
   "source": [
    "\n",
    "# Rank-one matrix"
   ]
  },
  {
   "cell_type": "code",
   "execution_count": 35,
   "metadata": {
    "pycharm": {
     "name": "#%%\n"
    }
   },
   "outputs": [
    {
     "name": "stdout",
     "output_type": "stream",
     "text": [
      "[[ 1  4  5]\n",
      " [ 2  8 10]\n",
      " [ 3 12 15]]\n"
     ]
    }
   ],
   "source": [
    "A = np.array([[ 1,  4,  5],\n",
    "              [ 2,  8, 10],\n",
    "              [ 3, 12, 15]])\n",
    "print(A)"
   ]
  },
  {
   "cell_type": "code",
   "execution_count": 36,
   "metadata": {
    "pycharm": {
     "name": "#%%\n"
    }
   },
   "outputs": [
    {
     "data": {
      "text/plain": "1"
     },
     "execution_count": 36,
     "metadata": {},
     "output_type": "execute_result"
    }
   ],
   "source": [
    "npLA.matrix_rank(A)"
   ]
  },
  {
   "cell_type": "markdown",
   "metadata": {},
   "source": [
    "## ?"
   ]
  },
  {
   "cell_type": "markdown",
   "metadata": {},
   "source": [
    "Why is computing determinant and eigenvalues for rank-one matrices **easy**?"
   ]
  },
  {
   "cell_type": "code",
   "execution_count": 37,
   "metadata": {
    "pycharm": {
     "name": "#%%\n"
    }
   },
   "outputs": [
    {
     "data": {
      "text/plain": "0.0"
     },
     "execution_count": 37,
     "metadata": {},
     "output_type": "execute_result"
    }
   ],
   "source": [
    "LA.det(A)"
   ]
  },
  {
   "cell_type": "code",
   "execution_count": 38,
   "metadata": {
    "pycharm": {
     "name": "#%%\n"
    }
   },
   "outputs": [
    {
     "data": {
      "text/plain": "array([24.+0.j, -0.+0.j,  0.+0.j])"
     },
     "execution_count": 38,
     "metadata": {},
     "output_type": "execute_result"
    }
   ],
   "source": [
    "LA.eigvals(A)"
   ]
  },
  {
   "cell_type": "markdown",
   "metadata": {},
   "source": [
    "Because rank-one matrices are _singular_, they have some zero eigenvalues. That's why their determinant is _zero_."
   ]
  },
  {
   "cell_type": "markdown",
   "metadata": {},
   "source": [
    "How can we compute the unique eigenvalue that rank-one matrices have?"
   ]
  },
  {
   "cell_type": "markdown",
   "metadata": {},
   "source": [
    "If I write a matrix as a sum of only rank-one matrices, how can it help with computing eigenvalues for the original matrix?"
   ]
  },
  {
   "cell_type": "markdown",
   "metadata": {},
   "source": [
    "# Least Squares"
   ]
  },
  {
   "cell_type": "code",
   "execution_count": 39,
   "metadata": {
    "pycharm": {
     "name": "#%%\n"
    }
   },
   "outputs": [
    {
     "name": "stdout",
     "output_type": "stream",
     "text": [
      "A\n",
      "[[1 1]\n",
      " [1 2]\n",
      " [1 3]]\n",
      "\n",
      "b\n",
      "[1 2 2]\n"
     ]
    }
   ],
   "source": [
    "A = np.column_stack([np.ones(3), np.arange(1, 4)]).astype('int')\n",
    "b = np.array([1, 2, 2])\n",
    "print('A', A, '', 'b', b, sep='\\n')"
   ]
  },
  {
   "cell_type": "code",
   "execution_count": 40,
   "metadata": {
    "pycharm": {
     "name": "#%%\n"
    }
   },
   "outputs": [
    {
     "name": "stdout",
     "output_type": "stream",
     "text": [
      "[0.7 0.5]\n"
     ]
    }
   ],
   "source": [
    "x_hat, *_ = LA.lstsq(A, b)\n",
    "print(x_hat)"
   ]
  },
  {
   "cell_type": "markdown",
   "metadata": {},
   "source": [
    "The power of `lstsq()` is that it does not need N(A) == 0."
   ]
  },
  {
   "cell_type": "markdown",
   "metadata": {},
   "source": [
    "## Manually"
   ]
  },
  {
   "cell_type": "markdown",
   "metadata": {},
   "source": [
    "In this manual approach, all columns of A should be linearly independent."
   ]
  },
  {
   "cell_type": "code",
   "execution_count": 41,
   "metadata": {
    "pycharm": {
     "name": "#%%\n"
    }
   },
   "outputs": [
    {
     "name": "stdout",
     "output_type": "stream",
     "text": [
      "At_\n",
      "[[ 3  6]\n",
      " [ 6 14]]\n",
      "\n",
      "At_b\n",
      "[ 5 11]\n"
     ]
    }
   ],
   "source": [
    "At_A = A.T @ A\n",
    "At_b = A.T @ b\n",
    "print('At_', At_A, '', 'At_b', At_b, sep='\\n')"
   ]
  },
  {
   "cell_type": "code",
   "execution_count": 42,
   "metadata": {
    "pycharm": {
     "name": "#%%\n"
    }
   },
   "outputs": [
    {
     "name": "stdout",
     "output_type": "stream",
     "text": [
      "[0.7 0.5]\n"
     ]
    }
   ],
   "source": [
    "x_hat = LA.inv(At_A) @ At_b\n",
    "print(x_hat)"
   ]
  },
  {
   "cell_type": "markdown",
   "metadata": {},
   "source": [
    "Or:"
   ]
  },
  {
   "cell_type": "code",
   "execution_count": 43,
   "metadata": {
    "pycharm": {
     "name": "#%%\n"
    }
   },
   "outputs": [
    {
     "name": "stdout",
     "output_type": "stream",
     "text": [
      "[0.7 0.5]\n"
     ]
    }
   ],
   "source": [
    "x_hat = LA.solve(At_A, At_b)\n",
    "print(x_hat)"
   ]
  },
  {
   "cell_type": "markdown",
   "metadata": {},
   "source": [
    "## Fitting a line/parabola"
   ]
  },
  {
   "cell_type": "code",
   "execution_count": 44,
   "metadata": {
    "pycharm": {
     "name": "#%%\n"
    }
   },
   "outputs": [
    {
     "name": "stdout",
     "output_type": "stream",
     "text": [
      "Residues\n",
      "line:\t\t3.1152232142857175\n",
      "parabola:\t0.3954624919193907\n"
     ]
    }
   ],
   "source": [
    "pt_x = np.array([1. , 2.5, 3.5, 4. , 5. , 7. , 8.5])\n",
    "pt_y = np.array([0.3, 1.1, 1.5, 2.0, 3.2, 6.6, 8.6])\n",
    "\n",
    "line_A = np.column_stack([pt_x, np.ones(len(pt_x))])\n",
    "line_x_hat, line_residues, *_ = LA.lstsq(line_A, pt_y)\n",
    "line_a, line_b = line_x_hat\n",
    "\n",
    "parabola_A = np.column_stack([pt_x ** 2, pt_x, np.ones(len(pt_x))])\n",
    "parabola_x_hat, parabola_residues, *_ = LA.lstsq(parabola_A, pt_y)\n",
    "parabola_a, parabola_b, parabola_c = parabola_x_hat\n",
    "\n",
    "print('Residues')\n",
    "print('line:\\t', line_residues, sep='\\t')\n",
    "print('parabola:', parabola_residues, sep='\\t')"
   ]
  },
  {
   "cell_type": "code",
   "execution_count": 45,
   "metadata": {
    "pycharm": {
     "name": "#%%\n"
    }
   },
   "outputs": [
    {
     "data": {
      "text/plain": "<matplotlib.legend.Legend at 0x11a5ecdc0>"
     },
     "execution_count": 45,
     "metadata": {},
     "output_type": "execute_result"
    },
    {
     "data": {
      "text/plain": "<Figure size 432x288 with 1 Axes>",
      "image/png": "[encoded data removed]"
     },
     "metadata": {
      "needs_background": "light"
     },
     "output_type": "display_data"
    }
   ],
   "source": [
    "plt.plot(pt_x, pt_y, 'o', label='Original data')\n",
    "\n",
    "input_x = np.arange(0, 9, .1)\n",
    "plt.plot(input_x, line_a * input_x + line_b, label='Fitted line')\n",
    "plt.plot(input_x, parabola_a * input_x ** 2 + parabola_b * input_x + parabola_c, label='Fitted parabola')\n",
    "plt.grid(alpha=0.25)\n",
    "plt.legend()"
   ]
  },
  {
   "cell_type": "markdown",
   "metadata": {},
   "source": [
    "# Properties of the determinant"
   ]
  },
  {
   "cell_type": "code",
   "execution_count": 46,
   "metadata": {
    "pycharm": {
     "name": "#%%\n"
    }
   },
   "outputs": [],
   "source": [
    "from numpy.testing import assert_allclose\n",
    "\n",
    "A, B = [np.random.rand(3, 3) for _ in range(2)]"
   ]
  },
  {
   "cell_type": "markdown",
   "metadata": {},
   "source": [
    "## $|AB| = |A||B|$"
   ]
  },
  {
   "cell_type": "code",
   "execution_count": 47,
   "metadata": {
    "pycharm": {
     "name": "#%%\n"
    }
   },
   "outputs": [],
   "source": [
    "assert_allclose(\n",
    "    det(A @ B),\n",
    "    det(A) * det(B)\n",
    ")"
   ]
  },
  {
   "cell_type": "markdown",
   "metadata": {},
   "source": [
    "## $|A^{-1}| = \\frac{1}{|A|}$"
   ]
  },
  {
   "cell_type": "code",
   "execution_count": 48,
   "metadata": {
    "pycharm": {
     "name": "#%%\n"
    }
   },
   "outputs": [],
   "source": [
    "assert_allclose(\n",
    "    det(inv(A)),\n",
    "    1 / det(A)\n",
    ")"
   ]
  },
  {
   "cell_type": "markdown",
   "metadata": {},
   "source": [
    "## $|A^2|=|A|^2$"
   ]
  },
  {
   "cell_type": "code",
   "execution_count": 49,
   "metadata": {
    "pycharm": {
     "name": "#%%\n"
    }
   },
   "outputs": [],
   "source": [
    "assert_allclose(\n",
    "    det(matrix_power(A, 2)),\n",
    "    det(A) ** 2\n",
    ")"
   ]
  },
  {
   "cell_type": "markdown",
   "metadata": {},
   "source": [
    "## $|2A|=2^n |A|$"
   ]
  },
  {
   "cell_type": "code",
   "execution_count": 50,
   "metadata": {
    "pycharm": {
     "name": "#%%\n"
    }
   },
   "outputs": [],
   "source": [
    "assert_allclose(\n",
    "    det(2 * A),\n",
    "    2 ** A.shape[0] * det(A)\n",
    ")"
   ]
  },
  {
   "cell_type": "markdown",
   "metadata": {},
   "source": [
    "## $|A^T|=|A|$"
   ]
  },
  {
   "cell_type": "code",
   "execution_count": 51,
   "metadata": {
    "pycharm": {
     "name": "#%%\n"
    }
   },
   "outputs": [],
   "source": [
    "assert_allclose(\n",
    "    det(A.T),\n",
    "    det(A)\n",
    ")"
   ]
  },
  {
   "cell_type": "markdown",
   "metadata": {},
   "source": [
    "## $|U|=|A|$"
   ]
  },
  {
   "cell_type": "code",
   "execution_count": 52,
   "metadata": {
    "pycharm": {
     "name": "#%%\n"
    }
   },
   "outputs": [],
   "source": [
    "*_, U = LA.lu(A)\n",
    "assert_allclose(\n",
    "    abs(det(U)),\n",
    "    abs(det(A)),\n",
    ")"
   ]
  },
  {
   "cell_type": "markdown",
   "metadata": {},
   "source": [
    "## $|Q|=1$"
   ]
  },
  {
   "cell_type": "code",
   "execution_count": 53,
   "metadata": {
    "pycharm": {
     "name": "#%%\n"
    }
   },
   "outputs": [],
   "source": [
    "Q_a_unitary_matrix = LA.orth(A)\n",
    "assert_allclose(\n",
    "    abs(det(Q_a_unitary_matrix)),\n",
    "    1,\n",
    "    atol=0.1\n",
    ")"
   ]
  },
  {
   "cell_type": "markdown",
   "metadata": {
    "pycharm": {
     "name": "#%% md\n"
    }
   },
   "source": [
    "# Eigenvalues and eigenvectors"
   ]
  },
  {
   "cell_type": "code",
   "execution_count": 54,
   "metadata": {
    "pycharm": {
     "name": "#%%\n"
    }
   },
   "outputs": [
    {
     "name": "stdout",
     "output_type": "stream",
     "text": [
      "[[1 2 1]\n",
      " [3 8 1]\n",
      " [0 4 1]]\n"
     ]
    }
   ],
   "source": [
    "A = create_my_array()\n",
    "print(A)"
   ]
  },
  {
   "cell_type": "code",
   "execution_count": 55,
   "metadata": {
    "pycharm": {
     "name": "#%%\n"
    }
   },
   "outputs": [
    {
     "name": "stdout",
     "output_type": "stream",
     "text": [
      "la\n",
      "[9.4+0.j 0.3+1.j 0.3-1.j]\n",
      "\n",
      "S\n",
      "[[ 0.3+0.j   0. -0.5j  0. +0.5j]\n",
      " [ 0.9+0.j  -0.1+0.2j -0.1-0.2j]\n",
      " [ 0.4+0.j   0.8+0.j   0.8-0.j ]]\n"
     ]
    }
   ],
   "source": [
    "la, S = LA.eig(A)\n",
    "print('la', la, '', 'S', S, sep='\\n')"
   ]
  },
  {
   "cell_type": "markdown",
   "metadata": {},
   "source": [
    "## Product of eigenvalues"
   ]
  },
  {
   "cell_type": "code",
   "execution_count": 56,
   "metadata": {
    "pycharm": {
     "name": "#%%\n"
    }
   },
   "outputs": [],
   "source": [
    "from functools import reduce\n",
    "from operator import mul\n",
    "\n",
    "product_of_eigenvalues = reduce(mul, la)\n",
    "assert_allclose(\n",
    "    product_of_eigenvalues,\n",
    "    det(A)\n",
    ")"
   ]
  },
  {
   "cell_type": "markdown",
   "metadata": {},
   "source": [
    "## Sum of eigenvalues"
   ]
  },
  {
   "cell_type": "code",
   "execution_count": 57,
   "metadata": {
    "pycharm": {
     "name": "#%%\n"
    }
   },
   "outputs": [
    {
     "data": {
      "text/plain": "10"
     },
     "execution_count": 57,
     "metadata": {},
     "output_type": "execute_result"
    }
   ],
   "source": [
    "A.trace()"
   ]
  },
  {
   "cell_type": "code",
   "execution_count": 58,
   "metadata": {
    "pycharm": {
     "name": "#%%\n"
    }
   },
   "outputs": [],
   "source": [
    "sum_of_eigenvalues = la.sum()\n",
    "assert_allclose(\n",
    "    sum_of_eigenvalues,\n",
    "    A.trace()\n",
    ")"
   ]
  },
  {
   "cell_type": "markdown",
   "metadata": {},
   "source": [
    "## Eigenvector matrix is unitary in scipy"
   ]
  },
  {
   "cell_type": "markdown",
   "metadata": {},
   "source": [
    "Because the eigenvector matrix that `eig()` provides is _unitary_ (Q), the magnitude of its determinant is 1."
   ]
  },
  {
   "cell_type": "code",
   "execution_count": 59,
   "metadata": {
    "pycharm": {
     "name": "#%%\n"
    }
   },
   "outputs": [],
   "source": [
    "assert_allclose(\n",
    "    abs(det(S)),\n",
    "    1,\n",
    "    atol=0.1\n",
    ")"
   ]
  },
  {
   "cell_type": "markdown",
   "metadata": {},
   "source": [
    "## Adding to the diagonal adds to lambdas"
   ]
  },
  {
   "cell_type": "code",
   "execution_count": 60,
   "metadata": {
    "pycharm": {
     "name": "#%%\n"
    }
   },
   "outputs": [],
   "source": [
    "assert_allclose(\n",
    "    LA.eigvals(A + 100 * np.identity(3)),\n",
    "    la + 100\n",
    ")"
   ]
  },
  {
   "cell_type": "markdown",
   "metadata": {},
   "source": [
    "## Attributes of a diagonal matrix"
   ]
  },
  {
   "cell_type": "code",
   "execution_count": 61,
   "metadata": {
    "jupyter": {
     "outputs_hidden": false
    },
    "pycharm": {
     "name": "#%%\n"
    }
   },
   "outputs": [
    {
     "name": "stdout",
     "output_type": "stream",
     "text": [
      "[[1 0 0]\n",
      " [0 2 0]\n",
      " [0 0 3]]\n"
     ]
    }
   ],
   "source": [
    "D = np.diagflat(np.arange(1, 4))\n",
    "print(D)"
   ]
  },
  {
   "cell_type": "code",
   "execution_count": 62,
   "metadata": {
    "jupyter": {
     "outputs_hidden": false
    },
    "pycharm": {
     "name": "#%%\n"
    }
   },
   "outputs": [
    {
     "name": "stdout",
     "output_type": "stream",
     "text": [
      "la\n",
      "[1.+0.j 2.+0.j 3.+0.j]\n",
      "\n",
      "S\n",
      "[[1. 0. 0.]\n",
      " [0. 1. 0.]\n",
      " [0. 0. 1.]]\n"
     ]
    }
   ],
   "source": [
    "la, S = LA.eig(D)\n",
    "print('la', la, '', 'S', S, sep='\\n')"
   ]
  },
  {
   "cell_type": "code",
   "execution_count": 63,
   "metadata": {
    "jupyter": {
     "outputs_hidden": false
    },
    "pycharm": {
     "name": "#%%\n"
    }
   },
   "outputs": [],
   "source": [
    "def test_in_a_diagonal_matrix_eigenvalues_are_on_the_ones_on_the_diagonal():\n",
    "    assert_allclose(\n",
    "    np.diag(D),\n",
    "    la\n",
    ")\n",
    "\n",
    "\n",
    "test_in_a_diagonal_matrix_eigenvalues_are_on_the_ones_on_the_diagonal()"
   ]
  },
  {
   "cell_type": "code",
   "execution_count": 64,
   "metadata": {
    "jupyter": {
     "outputs_hidden": false
    },
    "pycharm": {
     "name": "#%%\n"
    }
   },
   "outputs": [],
   "source": [
    "def test_in_a_diagonal_matrix_eigenvectors_form_the_identity():\n",
    "    assert_allclose(\n",
    "    S,\n",
    "    np.identity(D.shape[0])\n",
    ")\n",
    "\n",
    "\n",
    "test_in_a_diagonal_matrix_eigenvectors_form_the_identity()"
   ]
  },
  {
   "cell_type": "markdown",
   "metadata": {},
   "source": [
    "## Rotation matrix often has complex lambdas"
   ]
  },
  {
   "cell_type": "code",
   "execution_count": 65,
   "metadata": {
    "pycharm": {
     "name": "#%%\n"
    }
   },
   "outputs": [
    {
     "name": "stdout",
     "output_type": "stream",
     "text": [
      "[[ 0. -1.]\n",
      " [ 1.  0.]]\n"
     ]
    }
   ],
   "source": [
    "from numpy import sin, cos\n",
    "\n",
    "def generate_2_by_2_rotation_matrix(theta):\n",
    "    return np.array([[cos(theta), -sin(theta)],\n",
    "                     [sin(theta),  cos(theta)]])\n",
    "\n",
    "\n",
    "R_90 = generate_2_by_2_rotation_matrix(np.pi / 2)\n",
    "print(R_90)"
   ]
  },
  {
   "cell_type": "code",
   "execution_count": 66,
   "metadata": {
    "jupyter": {
     "outputs_hidden": false
    },
    "pycharm": {
     "name": "#%%\n"
    }
   },
   "outputs": [],
   "source": [
    "def test_R_90_is_antisymmetric():\n",
    "    assert_allclose(\n",
    "        -R_90.T,\n",
    "        R_90,\n",
    "        atol=1e-7\n",
    "    )\n",
    "\n",
    "\n",
    "test_R_90_is_antisymmetric()"
   ]
  },
  {
   "cell_type": "code",
   "execution_count": 67,
   "metadata": {
    "jupyter": {
     "outputs_hidden": false
    },
    "pycharm": {
     "name": "#%%\n"
    }
   },
   "outputs": [
    {
     "name": "stdout",
     "output_type": "stream",
     "text": [
      "[0.+1.j 0.-1.j]\n"
     ]
    }
   ],
   "source": [
    "la = LA.eigvals(R_90)\n",
    "print(la)"
   ]
  },
  {
   "cell_type": "code",
   "execution_count": 68,
   "metadata": {
    "jupyter": {
     "outputs_hidden": false
    },
    "pycharm": {
     "name": "#%%\n"
    }
   },
   "outputs": [],
   "source": [
    "def test_R_90_has_pure_imaginary_lambdas():\n",
    "    assert_allclose(\n",
    "        la.real,\n",
    "        np.zeros_like(la.real),\n",
    "        atol=1e-7\n",
    "    )\n",
    "\n",
    "test_R_90_has_pure_imaginary_lambdas()"
   ]
  },
  {
   "cell_type": "markdown",
   "metadata": {
    "tags": []
   },
   "source": [
    "# Diagonalizability"
   ]
  },
  {
   "cell_type": "markdown",
   "metadata": {},
   "source": [
    "## Algebraic & Geometric Multiplicity"
   ]
  },
  {
   "cell_type": "code",
   "execution_count": 69,
   "metadata": {
    "pycharm": {
     "name": "#%%\n"
    }
   },
   "outputs": [
    {
     "name": "stdout",
     "output_type": "stream",
     "text": [
      "[[1 2 1]\n",
      " [3 8 1]\n",
      " [0 4 1]]\n"
     ]
    }
   ],
   "source": [
    "A = create_my_array()\n",
    "print(A)"
   ]
  },
  {
   "cell_type": "markdown",
   "metadata": {},
   "source": [
    "I've used the `eig()` by `numpy.linalg` because it doesn't show _zero_ imaginary parts."
   ]
  },
  {
   "cell_type": "code",
   "execution_count": 70,
   "metadata": {
    "pycharm": {
     "name": "#%%\n"
    }
   },
   "outputs": [
    {
     "name": "stdout",
     "output_type": "stream",
     "text": [
      "la\n",
      "[9.4+0.j 0.3+1.j 0.3-1.j]\n",
      "\n",
      "S\n",
      "[[ 0.3+0.j   0. -0.5j  0. +0.5j]\n",
      " [ 0.9+0.j  -0.1+0.2j -0.1-0.2j]\n",
      " [ 0.4+0.j   0.8+0.j   0.8-0.j ]]\n"
     ]
    }
   ],
   "source": [
    "la, S = npLA.eig(A)\n",
    "print('la', la, '', 'S', S, sep='\\n')"
   ]
  },
  {
   "cell_type": "code",
   "execution_count": 71,
   "metadata": {
    "pycharm": {
     "name": "#%%\n"
    }
   },
   "outputs": [
    {
     "name": "stdout",
     "output_type": "stream",
     "text": [
      "lambda     A.M   G.M\n",
      "9.4+0.0j     1     1\n",
      "0.3+1.0j     1     1\n",
      "0.3-1.0j     1     1\n"
     ]
    }
   ],
   "source": [
    "from collections import Counter\n",
    "\n",
    "def compute_algebraic_multiplicities(M: np.ndarray) -> dict:\n",
    "    return Counter(npLA.eigvals(M))\n",
    "\n",
    "\n",
    "def compute_geometric_multiplicities(M: np.ndarray) -> dict:\n",
    "    geo_multiplicities = {}\n",
    "\n",
    "    for l in npLA.eigvals(M):\n",
    "        A_minus_lambda_I = M - l * np.identity(M.shape[0])\n",
    "        eigenspace = LA.null_space(A_minus_lambda_I)\n",
    "        dim_of_eigenspace = eigenspace.shape[1]\n",
    "\n",
    "        geo_multiplicities[l] = dim_of_eigenspace\n",
    "\n",
    "    return geo_multiplicities\n",
    "\n",
    "\n",
    "def print_alg_and_geo_multiplicities(M: np.ndarray):\n",
    "    alg_ms = compute_algebraic_multiplicities(M)\n",
    "    geo_ms = compute_geometric_multiplicities(M)\n",
    "\n",
    "    print('lambda  ', 'A.M', 'G.M', sep='   ')\n",
    "\n",
    "    for l in sorted(alg_ms, reverse=True):\n",
    "        print(f'{l:#8.1f}', f'{alg_ms[l]:#3d}', f'{geo_ms[l]:#3d}', sep='   ')\n",
    "\n",
    "\n",
    "print_alg_and_geo_multiplicities(A)"
   ]
  },
  {
   "cell_type": "markdown",
   "metadata": {},
   "source": [
    "## Defective matrix"
   ]
  },
  {
   "cell_type": "markdown",
   "metadata": {},
   "source": [
    "Any nontrivial Jordan block of 2×2 or larger (that is, not completely diagonal) is defective (degenerate)."
   ]
  },
  {
   "cell_type": "code",
   "execution_count": 72,
   "metadata": {
    "jupyter": {
     "outputs_hidden": false
    },
    "pycharm": {
     "name": "#%%\n"
    }
   },
   "outputs": [
    {
     "name": "stdout",
     "output_type": "stream",
     "text": [
      "[[3 1]\n",
      " [0 3]]\n"
     ]
    }
   ],
   "source": [
    "J = np.array([[3, 1],\n",
    "              [0, 3]])\n",
    "print(J)"
   ]
  },
  {
   "cell_type": "code",
   "execution_count": 73,
   "metadata": {
    "pycharm": {
     "name": "#%%\n"
    }
   },
   "outputs": [
    {
     "name": "stdout",
     "output_type": "stream",
     "text": [
      "la\n",
      "[3.+0.j 3.+0.j]\n",
      "\n",
      "S\n",
      "[[ 1. -1.]\n",
      " [ 0.  0.]]\n"
     ]
    }
   ],
   "source": [
    "la, S = LA.eig(J)\n",
    "print('la', la, '', 'S', S, sep='\\n')"
   ]
  },
  {
   "cell_type": "code",
   "execution_count": 74,
   "metadata": {
    "pycharm": {
     "name": "#%%\n"
    }
   },
   "outputs": [],
   "source": [
    "assert_allclose(\n",
    "    npLA.matrix_rank(S),\n",
    "    1,\n",
    "    atol=0.1\n",
    ")"
   ]
  },
  {
   "cell_type": "markdown",
   "metadata": {},
   "source": [
    "This Jordan matrix has only one eigenvector."
   ]
  },
  {
   "cell_type": "markdown",
   "metadata": {},
   "source": [
    "## Diagonalizable matrix\n"
   ]
  },
  {
   "cell_type": "markdown",
   "metadata": {},
   "source": [
    "### Normal"
   ]
  },
  {
   "cell_type": "markdown",
   "metadata": {},
   "source": [
    "A normal matrix is never defective."
   ]
  },
  {
   "cell_type": "markdown",
   "metadata": {},
   "source": [
    "#### Hermitian"
   ]
  },
  {
   "cell_type": "markdown",
   "metadata": {},
   "source": [
    "#### Unitary"
   ]
  },
  {
   "cell_type": "markdown",
   "metadata": {},
   "source": [
    "# Matrix Power $A^{k}$"
   ]
  },
  {
   "cell_type": "markdown",
   "metadata": {},
   "source": [
    "## A diagonal matrix"
   ]
  },
  {
   "cell_type": "code",
   "execution_count": 75,
   "metadata": {
    "jupyter": {
     "outputs_hidden": false
    },
    "pycharm": {
     "name": "#%%\n"
    }
   },
   "outputs": [
    {
     "name": "stdout",
     "output_type": "stream",
     "text": [
      "[[1 0 0]\n",
      " [0 2 0]\n",
      " [0 0 3]]\n"
     ]
    }
   ],
   "source": [
    "D = np.diagflat(np.arange(1, 4))\n",
    "print(D)"
   ]
  },
  {
   "cell_type": "code",
   "execution_count": 76,
   "metadata": {
    "pycharm": {
     "name": "#%%\n"
    }
   },
   "outputs": [
    {
     "name": "stdout",
     "output_type": "stream",
     "text": [
      "[[1 0 0]\n",
      " [0 4 0]\n",
      " [0 0 9]]\n"
     ]
    }
   ],
   "source": [
    "k = 2\n",
    "print(matrix_power(D, k))"
   ]
  },
  {
   "cell_type": "code",
   "execution_count": 77,
   "metadata": {
    "jupyter": {
     "outputs_hidden": false
    },
    "pycharm": {
     "name": "#%%\n"
    }
   },
   "outputs": [],
   "source": [
    "assert_allclose(\n",
    "    matrix_power(D, k),\n",
    "    D ** k\n",
    ")"
   ]
  },
  {
   "cell_type": "markdown",
   "metadata": {},
   "source": [
    "## Any matrix"
   ]
  },
  {
   "cell_type": "code",
   "execution_count": 78,
   "metadata": {
    "pycharm": {
     "name": "#%%\n"
    }
   },
   "outputs": [
    {
     "name": "stdout",
     "output_type": "stream",
     "text": [
      "[[1 2 1]\n",
      " [3 8 1]\n",
      " [0 4 1]]\n"
     ]
    }
   ],
   "source": [
    "A = create_my_array()\n",
    "print(A)"
   ]
  },
  {
   "cell_type": "markdown",
   "metadata": {},
   "source": [
    "If A is diagonalizable, $A^k=SΛ^kS^{-1}$."
   ]
  },
  {
   "cell_type": "code",
   "execution_count": 79,
   "metadata": {
    "jupyter": {
     "outputs_hidden": false
    },
    "pycharm": {
     "name": "#%%\n"
    }
   },
   "outputs": [
    {
     "name": "stdout",
     "output_type": "stream",
     "text": [
      "la\n",
      "[9.4+0.j 0.3+1.j 0.3-1.j]\n",
      "\n",
      "S\n",
      "[[ 0.3+0.j   0. -0.5j  0. +0.5j]\n",
      " [ 0.9+0.j  -0.1+0.2j -0.1-0.2j]\n",
      " [ 0.4+0.j   0.8+0.j   0.8-0.j ]]\n"
     ]
    }
   ],
   "source": [
    "la, S = LA.eig(A)\n",
    "print('la', la, '', 'S', S, sep='\\n')"
   ]
  },
  {
   "cell_type": "code",
   "execution_count": 80,
   "metadata": {
    "pycharm": {
     "name": "#%%\n"
    }
   },
   "outputs": [],
   "source": [
    "k = 2\n",
    "\n",
    "assert_allclose(\n",
    "    matrix_power(A, k),\n",
    "    S @ np.diagflat(la) ** k @ inv(S)\n",
    ")"
   ]
  },
  {
   "cell_type": "markdown",
   "metadata": {},
   "source": [
    "# Matrix Exponential $e^{At}$"
   ]
  },
  {
   "cell_type": "markdown",
   "metadata": {},
   "source": [
    "## A diagonal matrix"
   ]
  },
  {
   "cell_type": "code",
   "execution_count": 81,
   "metadata": {
    "jupyter": {
     "outputs_hidden": false
    },
    "pycharm": {
     "name": "#%%\n"
    }
   },
   "outputs": [
    {
     "name": "stdout",
     "output_type": "stream",
     "text": [
      "[[1 0 0]\n",
      " [0 2 0]\n",
      " [0 0 3]]\n"
     ]
    }
   ],
   "source": [
    "D = np.diagflat(np.arange(1, 4))\n",
    "print(D)"
   ]
  },
  {
   "cell_type": "code",
   "execution_count": 82,
   "metadata": {
    "pycharm": {
     "name": "#%%\n"
    }
   },
   "outputs": [
    {
     "name": "stdout",
     "output_type": "stream",
     "text": [
      "[[ 2.7  0.   0. ]\n",
      " [ 0.   7.4  0. ]\n",
      " [ 0.   0.  20.1]]\n"
     ]
    }
   ],
   "source": [
    "print(expm(D))"
   ]
  },
  {
   "cell_type": "code",
   "execution_count": 83,
   "metadata": {
    "jupyter": {
     "outputs_hidden": false
    },
    "pycharm": {
     "name": "#%%\n"
    }
   },
   "outputs": [],
   "source": [
    "t = 2\n",
    "\n",
    "assert_allclose(\n",
    "    expm(D * t),\n",
    "    np.diagflat(np.e ** (np.diag(D) * t))\n",
    ")"
   ]
  },
  {
   "cell_type": "markdown",
   "metadata": {},
   "source": [
    "## Any matrix"
   ]
  },
  {
   "cell_type": "code",
   "execution_count": 84,
   "metadata": {
    "pycharm": {
     "name": "#%%\n"
    }
   },
   "outputs": [
    {
     "name": "stdout",
     "output_type": "stream",
     "text": [
      "[[1 2 1]\n",
      " [3 8 1]\n",
      " [0 4 1]]\n"
     ]
    }
   ],
   "source": [
    "A = create_my_array()\n",
    "print(A)"
   ]
  },
  {
   "cell_type": "markdown",
   "metadata": {},
   "source": [
    "If A is diagonalizable, $e^{At}=Se^{Λt}S^{-1}$."
   ]
  },
  {
   "cell_type": "code",
   "execution_count": 85,
   "metadata": {
    "pycharm": {
     "name": "#%%\n"
    }
   },
   "outputs": [
    {
     "name": "stdout",
     "output_type": "stream",
     "text": [
      "la\n",
      "[9.4+0.j 0.3+1.j 0.3-1.j]\n",
      "\n",
      "S\n",
      "[[ 0.3+0.j   0. -0.5j  0. +0.5j]\n",
      " [ 0.9+0.j  -0.1+0.2j -0.1-0.2j]\n",
      " [ 0.4+0.j   0.8+0.j   0.8-0.j ]]\n"
     ]
    }
   ],
   "source": [
    "la, S = LA.eig(A)\n",
    "print('la', la, '', 'S', S, sep='\\n')"
   ]
  },
  {
   "cell_type": "code",
   "execution_count": 86,
   "metadata": {
    "pycharm": {
     "name": "#%%\n"
    }
   },
   "outputs": [],
   "source": [
    "t = 2\n",
    "\n",
    "assert_allclose(\n",
    "    expm(A * t),\n",
    "    S @ expm(np.diagflat(la) * t) @ inv(S)\n",
    ")"
   ]
  },
  {
   "cell_type": "markdown",
   "metadata": {},
   "source": [
    "# Systems of difference equations"
   ]
  },
  {
   "cell_type": "markdown",
   "metadata": {},
   "source": [
    "## Discrete $u_{k}=A^{k}u_{0}$"
   ]
  },
  {
   "cell_type": "markdown",
   "metadata": {},
   "source": [
    "### e.g. Fibonacci"
   ]
  },
  {
   "cell_type": "markdown",
   "metadata": {},
   "source": [
    "\n",
    "$f_{0}$ | $f_{1}$ | $f_{2}$ | $f_{3}$ | $f_{4}$ | $f_{5}$ | $f_{6}$ | $f_{7}$ | $...$ | $f_{100}$\n",
    ":- | :- | :- | :- | :- | :- | :- | :- | :- | :-\n",
    "0 | 1 | 1 | 2 | 3 | 5 | 8 | 13 | $...$ | ?\n",
    "\n",
    "\n",
    "$f_{k+2} = f_{k+1} + f_{k} \\ \\rightarrow \\ $ 2nd order differential equation (with 2nd derivative)\n",
    "\n",
    "\"I want to get a two by two system first order, instead of a scalar system second order.\"\n",
    "\n",
    "1st order system\n",
    "$\n",
    "\\ \\rightarrow \\\n",
    "\\begin{cases}\n",
    "f_{k+1} + f_{k} = f_{k+2} \\\\ \n",
    "f_{k+1} + 0 = f_{k+1}\n",
    "\\end{cases}\n",
    "\\ \\rightarrow \\\n",
    "\\begin{bmatrix}\n",
    "1 & 1 \\\\\n",
    "1 & 0\n",
    "\\end{bmatrix}\n",
    "\\begin{bmatrix}\n",
    "f_{k+1} \\\\\n",
    "f_{k}\n",
    "\\end{bmatrix}\n",
    "=\n",
    "\\begin{bmatrix}\n",
    "f_{k+2} \\\\\n",
    "f_{k+1}\n",
    "\\end{bmatrix}\n",
    "\\ \\rightarrow \\\n",
    "\\begin{bmatrix}\n",
    "1 & 1 \\\\\n",
    "1 & 0\n",
    "\\end{bmatrix}\n",
    "u_{k} = u_{k+1}\n",
    "$\n",
    "\n",
    "$\n",
    "\\Rightarrow\n",
    "u_{k+1} = A u_{k}\n",
    "\\ , \\\n",
    "u_{0} =\n",
    "\\begin{bmatrix}\n",
    "f_{1} \\\\\n",
    "f_{0}\n",
    "\\end{bmatrix}\n",
    "=\n",
    "\\begin{bmatrix}\n",
    "1 \\\\\n",
    "0\n",
    "\\end{bmatrix}\n",
    "$\n",
    "\n",
    "$\n",
    "\\Rightarrow\n",
    "u_{k} = A^{k} u_{0} = S \\Lambda^{k} c \\ , \\ c = S^{-1} u_{0}\n",
    "$"
   ]
  },
  {
   "cell_type": "code",
   "execution_count": 87,
   "metadata": {},
   "outputs": [],
   "source": [
    "A = np.array([[1, 1],\n",
    "              [1, 0]])\n",
    "\n",
    "u_0 = np.array([1, 0], dtype='float')\n",
    "\n",
    "\n",
    "def u_by_recursion(k_):\n",
    "    global A, u_0\n",
    "\n",
    "    if k_ == 0:\n",
    "        return u_0\n",
    "    else:\n",
    "        return A @ u_by_recursion(k_ - 1)\n",
    "\n",
    "\n",
    "def u_by_diagonalization(k_):\n",
    "    global A, u_0\n",
    "\n",
    "    la_, S_ = npLA.eig(A)\n",
    "\n",
    "    if k_ == 0:\n",
    "        return u_0\n",
    "    else:\n",
    "        return S_ @ np.diagflat(la_ ** k_) @ inv(S_) @ u_0"
   ]
  },
  {
   "cell_type": "code",
   "execution_count": 88,
   "metadata": {
    "pycharm": {
     "name": "#%%\n"
    }
   },
   "outputs": [],
   "source": [
    "def assert_diff_fib_are_close():\n",
    "    n = 100\n",
    "    assert_allclose(\n",
    "        u_by_recursion(n),\n",
    "        u_by_diagonalization(n)\n",
    "    )\n",
    "\n",
    "\n",
    "assert_diff_fib_are_close()"
   ]
  },
  {
   "cell_type": "code",
   "execution_count": 89,
   "metadata": {
    "pycharm": {
     "name": "#%%\n"
    }
   },
   "outputs": [
    {
     "data": {
      "text/plain": "[0, 1, 1, 2, 3, 5, 8, 13]"
     },
     "execution_count": 89,
     "metadata": {},
     "output_type": "execute_result"
    }
   ],
   "source": [
    "[round(u_by_diagonalization(n)[1]) for n in range(8)]"
   ]
  },
  {
   "cell_type": "code",
   "execution_count": 90,
   "metadata": {
    "pycharm": {
     "name": "#%%\n"
    }
   },
   "outputs": [
    {
     "name": "stdout",
     "output_type": "stream",
     "text": [
      "354_224_848_179_263_045_632\n"
     ]
    }
   ],
   "source": [
    "print(f'{round(u_by_diagonalization(100)[1]):_}')"
   ]
  },
  {
   "cell_type": "markdown",
   "metadata": {},
   "source": [
    "### Convergence"
   ]
  },
  {
   "cell_type": "markdown",
   "metadata": {},
   "source": [
    "#### Stability"
   ]
  },
  {
   "cell_type": "markdown",
   "metadata": {},
   "source": [
    "$\\forall i: |\\lambda_{i}|<1$"
   ]
  },
  {
   "cell_type": "code",
   "execution_count": 91,
   "metadata": {
    "pycharm": {
     "name": "#%%\n"
    }
   },
   "outputs": [],
   "source": [
    "def matrix_power_leads_to_stability(la_):\n",
    "    return (np.absolute(la_) < 1).all()\n",
    "\n",
    "def assert_vector_is_almost_zero(v):\n",
    "    assert_allclose(\n",
    "        v,\n",
    "        np.zeros_like(v),\n",
    "        atol=0.01\n",
    "    )"
   ]
  },
  {
   "cell_type": "markdown",
   "metadata": {},
   "source": [
    "#### Steady State"
   ]
  },
  {
   "cell_type": "markdown",
   "metadata": {},
   "source": [
    "$\\exists i: |\\lambda_{i}|=1, \\forall j: |\\lambda_{j}| \\leq 1$"
   ]
  },
  {
   "cell_type": "code",
   "execution_count": 92,
   "metadata": {
    "pycharm": {
     "name": "#%%\n"
    }
   },
   "outputs": [],
   "source": [
    "def matrix_power_leads_to_steady_state(la_):\n",
    "    return (np.absolute(la_) == 1).any() and (np.absolute(la_) <= 1).all()\n",
    "\n",
    "def assert_vector_is_not_too_big(v):\n",
    "    assert_(\n",
    "        (np.absolute(v) < 1e9).all()\n",
    "    )\n",
    "\n",
    "def assert_vector_is_not_zero(v):\n",
    "    assert_(\n",
    "        (0.1 < np.absolute(v)).any()\n",
    "    )"
   ]
  },
  {
   "cell_type": "markdown",
   "metadata": {},
   "source": [
    "#### Blow Up"
   ]
  },
  {
   "cell_type": "markdown",
   "metadata": {},
   "source": [
    "$\\exists i : |\\lambda_{i}|>1$"
   ]
  },
  {
   "cell_type": "code",
   "execution_count": 93,
   "metadata": {
    "pycharm": {
     "name": "#%%\n"
    }
   },
   "outputs": [],
   "source": [
    "def matrix_power_blows_up(la_):\n",
    "    return (np.absolute(la_) > 1).any()\n",
    "\n",
    "def assert_vector_is_very_big(v):\n",
    "    assert_(\n",
    "        (np.absolute(v) > 1e9).any()\n",
    "    )"
   ]
  },
  {
   "cell_type": "markdown",
   "metadata": {},
   "source": [
    "### Analyze"
   ]
  },
  {
   "cell_type": "code",
   "execution_count": 94,
   "outputs": [
    {
     "name": "stdout",
     "output_type": "stream",
     "text": [
      "A\n",
      "[[1 1 4]\n",
      " [2 2 5]\n",
      " [3 3 6]]\n",
      "\n",
      "u_0\n",
      "[[1.]\n",
      " [1.]\n",
      " [1.]]\n"
     ]
    }
   ],
   "source": [
    "A = create_a_square_singular_array()\n",
    "\n",
    "u_0 = np.ones(A.shape[0])\n",
    "\n",
    "print('A', A, '', 'u_0', u_0[:, np.newaxis], sep='\\n')"
   ],
   "metadata": {
    "collapsed": false,
    "pycharm": {
     "name": "#%%\n"
    }
   }
  },
  {
   "cell_type": "code",
   "execution_count": 95,
   "outputs": [
    {
     "name": "stdout",
     "output_type": "stream",
     "text": [
      "la\n",
      "[ 9.9 -0.9 -0. ]\n"
     ]
    }
   ],
   "source": [
    "la = npLA.eigvals(A)\n",
    "print('la', la, sep='\\n')"
   ],
   "metadata": {
    "collapsed": false,
    "pycharm": {
     "name": "#%%\n"
    }
   }
  },
  {
   "cell_type": "code",
   "execution_count": 96,
   "metadata": {
    "pycharm": {
     "name": "#%%\n"
    }
   },
   "outputs": [
    {
     "name": "stdout",
     "output_type": "stream",
     "text": [
      "\u001B[91mIt blows up!\n",
      "\u001B[0m\n",
      "u_k\n",
      "[[-1.2e+19]\n",
      " [-1.2e+19]\n",
      " [ 5.9e+18]]\n"
     ]
    }
   ],
   "source": [
    "k = 100\n",
    "A_to_the_k = matrix_power(A, k)\n",
    "u_k = A_to_the_k @ u_0\n",
    "\n",
    "if matrix_power_leads_to_stability(la):\n",
    "    assert_vector_is_almost_zero(u_k)\n",
    "\n",
    "    with print_style(Styles.GREEN):\n",
    "        print('It is stable!')\n",
    "\n",
    "if matrix_power_leads_to_steady_state(la):\n",
    "    assert_vector_is_not_too_big(u_k)\n",
    "    assert_vector_is_not_zero(u_k)\n",
    "\n",
    "    with print_style(Styles.YELLOW):\n",
    "            print('It approaches a steady state!')\n",
    "\n",
    "if matrix_power_blows_up(la):\n",
    "    assert_vector_is_very_big(u_k)\n",
    "\n",
    "    with print_style(Styles.RED):\n",
    "        print('It blows up!')\n",
    "\n",
    "# print('', 'A_to_the_k', A_to_the_k, sep='\\n')\n",
    "\n",
    "print('', 'u_k', u_k[:, np.newaxis], sep='\\n')"
   ]
  },
  {
   "cell_type": "markdown",
   "metadata": {},
   "source": [
    "## Continuous $u(t)=e^{At}u(0)$"
   ]
  },
  {
   "cell_type": "markdown",
   "metadata": {},
   "source": [
    "### e.g. A 2×2 system of diff eqs"
   ]
  },
  {
   "cell_type": "markdown",
   "metadata": {},
   "source": [
    "$\n",
    "\\begin{cases}\n",
    "\\frac{du_{1}}{dt} = -u_{1}+2u_{2} \\ , \\ u_{1}(0)=1 \\ , \\ u_{1}(t)=? \\\\\n",
    "\\\\\n",
    "\\frac{du_{2}}{dt} = \\ \\ \\ u_{1}-2u_{2} \\ , \\ u_{2}(0)=0 \\ , \\ u_{2}(t)=?\n",
    "\\end{cases}\n",
    "\\\\\n",
    "\\\n",
    "\\\\\n",
    "A = \n",
    "\\begin{bmatrix}\n",
    "-1 & 2 \\\\\n",
    "1 & -2\n",
    "\\end{bmatrix}\n",
    "\\\n",
    ",\n",
    "\\\n",
    "u=\n",
    "\\begin{bmatrix}\n",
    "u_{1} \\\\\n",
    "u_{2}\n",
    "\\end{bmatrix}\n",
    "\\\n",
    "\\rightarrow\n",
    "\\\n",
    "\\frac{du}{dt} = Au\n",
    "\\\n",
    ",\n",
    "\\\n",
    "u(0)=\n",
    "\\begin{bmatrix}\n",
    "1 \\\\\n",
    "0\n",
    "\\end{bmatrix}\n",
    "\\\\\n",
    "\\\n",
    "\\\\\n",
    "u(t)=e^{At}u(0)=Se^{\\Lambda t} c \\ , \\ c = S^{-1} u(0)\n",
    "$"
   ]
  },
  {
   "cell_type": "code",
   "execution_count": 97,
   "metadata": {
    "pycharm": {
     "name": "#%%\n"
    }
   },
   "outputs": [],
   "source": [
    "A = np.array([[-1,  2],\n",
    "              [ 1, -2]])\n",
    "\n",
    "u_0 = np.array([1, 0], dtype='float')\n",
    "\n",
    "\n",
    "def u(t_):\n",
    "    return expm(A * t_) @ u_0"
   ]
  },
  {
   "cell_type": "markdown",
   "metadata": {},
   "source": [
    "$\n",
    "u_{1}(100)=?\n",
    "\\\\\n",
    "u_{2}(100)=?\n",
    "$"
   ]
  },
  {
   "cell_type": "code",
   "execution_count": 98,
   "metadata": {
    "pycharm": {
     "name": "#%%\n"
    }
   },
   "outputs": [
    {
     "name": "stdout",
     "output_type": "stream",
     "text": [
      "[[0.7]\n",
      " [0.3]]\n"
     ]
    }
   ],
   "source": [
    "print(u(100).reshape(2, 1))"
   ]
  },
  {
   "cell_type": "markdown",
   "metadata": {},
   "source": [
    "### e.g. A 2nd order diff eq"
   ]
  },
  {
   "cell_type": "markdown",
   "metadata": {},
   "source": [
    "$\n",
    "y^{''}+by^{'}+ky=0\n",
    "\\\n",
    "\\Rightarrow\n",
    "\\\n",
    "\\begin{cases}\n",
    "y^{''}=-by^{'}-ky\n",
    "\\\\\n",
    "y^{'}= \\ \\ \\ \\ \\ y^{'}+0\n",
    "\\end{cases}\n",
    "\\\n",
    "\\Rightarrow\n",
    "\\\n",
    "\\begin{bmatrix}\n",
    "y^{''}\n",
    "\\\\\n",
    "y^{'}\n",
    "\\end{bmatrix}\n",
    "=\n",
    "\\begin{bmatrix}\n",
    "-b & -k \\\\\n",
    "1 & 0\n",
    "\\end{bmatrix}\n",
    "\\begin{bmatrix}\n",
    "y^{'}\n",
    "\\\\\n",
    "y\n",
    "\\end{bmatrix}\n",
    "\\\n",
    "\\Rightarrow\n",
    "\\\n",
    "\\frac{du}{dt}=u^{'}=Au\n",
    "\\\n",
    "\\Rightarrow\n",
    "\\\n",
    "u(t)=e^{At}u(0)\n",
    "$\n"
   ]
  },
  {
   "cell_type": "markdown",
   "metadata": {},
   "source": [
    "### Convergence"
   ]
  },
  {
   "cell_type": "markdown",
   "metadata": {},
   "source": [
    "#### Stability"
   ]
  },
  {
   "cell_type": "markdown",
   "metadata": {},
   "source": [
    "$\\forall i: Re\\lambda_{i}<0$"
   ]
  },
  {
   "cell_type": "code",
   "execution_count": 99,
   "metadata": {
    "pycharm": {
     "name": "#%%\n"
    }
   },
   "outputs": [],
   "source": [
    "def matrix_exponential_leads_to_stability(la_):\n",
    "    return (la_.real <= -0.1).all()"
   ]
  },
  {
   "cell_type": "markdown",
   "metadata": {},
   "source": [
    "#### Steady State"
   ]
  },
  {
   "cell_type": "markdown",
   "metadata": {},
   "source": [
    "$\\exists i: Re\\lambda_{i}=0, \\forall j: Re\\lambda_{j} \\leq 0$"
   ]
  },
  {
   "cell_type": "code",
   "execution_count": 100,
   "metadata": {
    "pycharm": {
     "name": "#%%\n"
    }
   },
   "outputs": [],
   "source": [
    "def matrix_exponential_leads_to_steady_state(la_):\n",
    "    return (la_.real < 0.1).all() and (-0.1 < la_.real).any()"
   ]
  },
  {
   "cell_type": "markdown",
   "metadata": {},
   "source": [
    "#### Blow Up"
   ]
  },
  {
   "cell_type": "markdown",
   "metadata": {},
   "source": [
    "$\\exists i: Re\\lambda_{i}>0$"
   ]
  },
  {
   "cell_type": "code",
   "execution_count": 101,
   "metadata": {
    "pycharm": {
     "name": "#%%\n"
    }
   },
   "outputs": [],
   "source": [
    "def matrix_exponential_blows_up(la_):\n",
    "    return (la_.real >= 0.1).any()"
   ]
  },
  {
   "cell_type": "markdown",
   "source": [
    "### Analyze"
   ],
   "metadata": {
    "collapsed": false
   }
  },
  {
   "cell_type": "code",
   "execution_count": 102,
   "outputs": [
    {
     "name": "stdout",
     "output_type": "stream",
     "text": [
      "A\n",
      "[[1 1 4]\n",
      " [2 2 5]\n",
      " [3 3 6]]\n",
      "\n",
      "u_0\n",
      "[[1.]\n",
      " [1.]\n",
      " [1.]]\n"
     ]
    }
   ],
   "source": [
    "A = create_a_square_singular_array()\n",
    "\n",
    "u_0 = np.ones(A.shape[0])\n",
    "\n",
    "print('A', A, '', 'u_0', u_0[:, np.newaxis], sep='\\n')"
   ],
   "metadata": {
    "collapsed": false,
    "pycharm": {
     "name": "#%%\n"
    }
   }
  },
  {
   "cell_type": "code",
   "execution_count": 103,
   "outputs": [
    {
     "name": "stdout",
     "output_type": "stream",
     "text": [
      "la\n",
      "[ 9.9 -0.9 -0. ]\n"
     ]
    }
   ],
   "source": [
    "la = npLA.eigvals(A)\n",
    "print('la', la, sep='\\n')"
   ],
   "metadata": {
    "collapsed": false,
    "pycharm": {
     "name": "#%%\n"
    }
   }
  },
  {
   "cell_type": "code",
   "execution_count": 104,
   "outputs": [
    {
     "name": "stdout",
     "output_type": "stream",
     "text": [
      "\u001B[91mIt blows up!\n",
      "\u001B[0m\n",
      "u_t\n",
      "[[inf]\n",
      " [inf]\n",
      " [inf]]\n"
     ]
    }
   ],
   "source": [
    "t = 100\n",
    "e_to_the_At = expm(A * t)\n",
    "u_t = e_to_the_At @ u_0\n",
    "\n",
    "if matrix_exponential_leads_to_stability(la):\n",
    "    assert_vector_is_almost_zero(u_t)\n",
    "\n",
    "    with print_style(Styles.GREEN):\n",
    "        print('It is stable!')\n",
    "\n",
    "if matrix_exponential_leads_to_steady_state(la):\n",
    "    assert_vector_is_not_too_big(u_t)\n",
    "    assert_vector_is_not_zero(u_t)\n",
    "\n",
    "    with print_style(Styles.YELLOW):\n",
    "            print('It approaches a steady state!')\n",
    "\n",
    "if matrix_exponential_blows_up(la):\n",
    "    assert_vector_is_very_big(u_t)\n",
    "\n",
    "    with print_style(Styles.RED):\n",
    "        print('It blows up!')\n",
    "\n",
    "# print('', 'e_to_the_At', e_to_the_At, sep='\\n')\n",
    "\n",
    "print('', 'u_t', u_t[:, np.newaxis], sep='\\n')"
   ],
   "metadata": {
    "collapsed": false,
    "pycharm": {
     "name": "#%%\n"
    }
   }
  },
  {
   "cell_type": "markdown",
   "metadata": {},
   "source": [
    "# Next"
   ]
  },
  {
   "cell_type": "code",
   "metadata": {
    "pycharm": {
     "name": "#%%\n"
    }
   },
   "source": [],
   "execution_count": 104,
   "outputs": []
  }
 ],
 "metadata": {
  "kernelspec": {
   "display_name": "Python (LA)",
   "language": "python",
   "name": "la"
  },
  "language_info": {
   "codemirror_mode": {
    "name": "ipython",
    "version": 3
   },
   "file_extension": ".py",
   "mimetype": "text/x-python",
   "name": "python",
   "nbconvert_exporter": "python",
   "pygments_lexer": "ipython3",
   "version": "3.9.1"
  },
  "toc-autonumbering": false
 },
 "nbformat": 4,
 "nbformat_minor": 4
}